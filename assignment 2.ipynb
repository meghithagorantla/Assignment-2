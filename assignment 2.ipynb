{
 "cells": [
  {
   "cell_type": "code",
   "execution_count": 4,
   "id": "d66015f0",
   "metadata": {},
   "outputs": [
    {
     "name": "stdout",
     "output_type": "stream",
     "text": [
      "num1: 10\n",
      "choose any one of this * and /*\n",
      "num2: 2\n",
      "10*2=20\n"
     ]
    }
   ],
   "source": [
    "#1) Write a program to accept two numbers from the user\n",
    "#and calculate multiplication, division.\n",
    "\n",
    "x=int(input(\"num1: \"))\n",
    "opera=input(\"choose any one of this * and /\")\n",
    "y=int(input(\"num2: \"))\n",
    "if opera==\"*\":\n",
    "    print(\"{}*{}={}\".format(x,y,x*y))\n",
    "elif opera==\"/\":\n",
    "    print(\"{}/{}={}\".format(x,y,x/y))"
   ]
  },
  {
   "cell_type": "code",
   "execution_count": 36,
   "id": "91b591c4",
   "metadata": {},
   "outputs": [
    {
     "name": "stdout",
     "output_type": "stream",
     "text": [
      "even char: ['j', 'i', 'g', 'b', 'n']\n"
     ]
    },
    {
     "data": {
      "text/plain": [
       "'j i g b n'"
      ]
     },
     "execution_count": 36,
     "metadata": {},
     "output_type": "execute_result"
    }
   ],
   "source": [
    "#2) Write a python program to print the characters from a\n",
    "#string that are present at an even index\n",
    "x=\"jbiugybjn\"\n",
    "l=[]\n",
    "for i in range(len(x)):\n",
    "    if i%2==0:\n",
    "        l.append(x[i])\n",
    "print(\"even char: {}\".format(l))\n",
    "\" \".join(l)"
   ]
  },
  {
   "cell_type": "code",
   "execution_count": 17,
   "id": "26dc6049",
   "metadata": {},
   "outputs": [
    {
     "name": "stdout",
     "output_type": "stream",
     "text": [
      "even characters:  jbgc\n"
     ]
    }
   ],
   "source": [
    "x=\"jhbvghcy\"\n",
    "print(\"even characters: \",x[::2])"
   ]
  },
  {
   "cell_type": "code",
   "execution_count": null,
   "id": "34fb6593",
   "metadata": {},
   "outputs": [],
   "source": [
    "#3) Write a python program to print the characters from a\n",
    "#string that are present at an odd index\n",
    "x=\"jbiugybjn\"\n",
    "l=[]\n",
    "for i in range(len(x)):\n",
    "    if i%2!==0:\n",
    "        l.append(x[i])\n",
    "print(\"even char: {}\".format(l))\n",
    "\" \".join(l)"
   ]
  },
  {
   "cell_type": "code",
   "execution_count": 40,
   "id": "159654bf",
   "metadata": {},
   "outputs": [
    {
     "name": "stdout",
     "output_type": "stream",
     "text": [
      "ugu\n"
     ]
    }
   ],
   "source": [
    "x=\"uygyu\"\n",
    "p=x[0::2]\n",
    "print(p)"
   ]
  },
  {
   "cell_type": "code",
   "execution_count": 20,
   "id": "07511265",
   "metadata": {},
   "outputs": [
    {
     "name": "stdout",
     "output_type": "stream",
     "text": [
      "num1: 5\n",
      "choose any operater + or -: -\n",
      "num2: 7\n",
      "5+7=12\n"
     ]
    }
   ],
   "source": [
    "#4) Write a python program which will print the sum of the\n",
    "#two numbers if the two numbers are even or it will print the\n",
    "#difference of two numbers.\n",
    "x=int(input(\"num1: \"))\n",
    "opera=input(\"choose any operater + or -: \")\n",
    "y=int(input(\"num2: \"))\n",
    "c=x+y\n",
    "d=x-y\n",
    "if c%2==0:\n",
    "    print(\"{}+{}={}\".format(x,y,c))\n",
    "elif d%2!=0:\n",
    "    print(\"{}-{}={}\".format(x,y,d))\n"
   ]
  },
  {
   "cell_type": "code",
   "execution_count": 11,
   "id": "36727960",
   "metadata": {},
   "outputs": [
    {
     "name": "stdout",
     "output_type": "stream",
     "text": [
      "num1: 3\n",
      "choose any operater + or -: _\n",
      "num2: 6\n",
      "3-6=-3\n"
     ]
    }
   ],
   "source": [
    "x=int(input(\"num1: \"))\n",
    "opera=input(\"choose any operater + or -: \")\n",
    "y=int(input(\"num2: \"))\n",
    "c=x+y\n",
    "d=x-y\n",
    "if c%2==0:\n",
    "    print(\"{}+{}={}\".format(x,y,c))\n",
    "else:\n",
    "    print(\"{}-{}={}\".format(x,y,d))\n",
    "    "
   ]
  },
  {
   "cell_type": "code",
   "execution_count": 14,
   "id": "24242e1a",
   "metadata": {},
   "outputs": [
    {
     "name": "stdout",
     "output_type": "stream",
     "text": [
      "enter the word: maggie\n",
      " MaGgIe\n"
     ]
    }
   ],
   "source": [
    "#5) Write a python program to convert all even indexed\n",
    "#alphabets to upper and odd indexed char.\n",
    "x=input(\"enter the word: \")\n",
    "y=\" \"\n",
    "for i in range(6):\n",
    "    if i%2==0:\n",
    "        y=y+x[i].upper()\n",
    "    elif i%2!=0:\n",
    "        y=y+x[i].lower()\n",
    "print(y)\n"
   ]
  },
  {
   "cell_type": "code",
   "execution_count": 23,
   "id": "8e444aac",
   "metadata": {},
   "outputs": [
    {
     "name": "stdout",
     "output_type": "stream",
     "text": [
      "number: 5\n",
      "True\n"
     ]
    }
   ],
   "source": [
    "#6) Write a python program which will print True if the input\n",
    "#number is divisible by 5 or else False.\n",
    "x=int(input(\"number: \"))\n",
    "if x%5==0:\n",
    "    print(\"True\")\n",
    "else:\n",
    "    print(\"False\")"
   ]
  },
  {
   "cell_type": "code",
   "execution_count": 27,
   "id": "7bb41c8b",
   "metadata": {},
   "outputs": [
    {
     "name": "stdout",
     "output_type": "stream",
     "text": [
      "num1: 50\n",
      "num2: 5\n",
      "50+5=55\n"
     ]
    }
   ],
   "source": [
    "#7) Given two integer numbers return their product only if the\n",
    "#product is greater than 1000, else return their sum\n",
    "x=int(input(\"num1: \"))\n",
    "y=int(input(\"num2: \"))\n",
    "c=x*y\n",
    "d=x+y\n",
    "if c>1000:\n",
    "    print(\"{}*{}={}\".format(x,y,c))\n",
    "else:\n",
    "    print(\"{}+{}={}\".format(x,y,d))\n",
    "\n",
    "\n"
   ]
  },
  {
   "cell_type": "code",
   "execution_count": 37,
   "id": "ef2c1b3a",
   "metadata": {},
   "outputs": [
    {
     "name": "stdout",
     "output_type": "stream",
     "text": [
      "mjgtei\n"
     ]
    }
   ],
   "source": [
    "#8) Given two strings x, y writes a program to return a new\n",
    "#string made of x and y’s first, middle, and last characters\n",
    "x=\"maggie\"\n",
    "y=\"jyothi\"\n",
    "z=\" \"\n",
    "c=x[len(x)//2-3]+y[len(y)//2-3]+x[len(x)//2]+y[len(y)//2]+x[len(x)//2-4]+y[len(y)//2-4]\n",
    "print(c)\n"
   ]
  },
  {
   "cell_type": "code",
   "execution_count": 42,
   "id": "44363d66",
   "metadata": {},
   "outputs": [
    {
     "name": "stdout",
     "output_type": "stream",
     "text": [
      " maggie\n",
      " jyothi\n",
      " vinay\n",
      "maggie jyothi vinay\n"
     ]
    }
   ],
   "source": [
    "#9) Write a python program to take three names as input\n",
    "#from a user in the single input () function call\n",
    "def names():\n",
    "    x=input(\" \")\n",
    "    y=input(\" \")\n",
    "    z=input(\" \")\n",
    "    print(x,y,z)\n",
    "names()"
   ]
  },
  {
   "cell_type": "code",
   "execution_count": 8,
   "id": "2b912ea4",
   "metadata": {},
   "outputs": [
    {
     "name": "stdout",
     "output_type": "stream",
     "text": [
      " simply\n",
      "simplying\n"
     ]
    }
   ],
   "source": [
    "#11) Write a Python program to add 'ing' at the end of a given\n",
    "#string (string length should be equal to or more than 3). If\n",
    "#the given string already ends with 'ing' then add 'ly' instead.\n",
    "#If the string length of the given string is less than 3, leave it\n",
    "#unchanged\n",
    "#Example:\n",
    "#Input:\n",
    "#'sing’\n",
    "#Output:\n",
    "#'singing'\n",
    "#Input:\n",
    "#' playing'\n",
    "#Output:\n",
    "#‘playly’\n",
    "#Input:\n",
    "#' on'\n",
    "#Output:\n",
    "#‘on’\n",
    "x=input(\" \")\n",
    "m='ing'\n",
    "n='ly'\n",
    "if len(x)>3:\n",
    "    print(x+m)\n",
    "elif x.endswith(\"ing\"):\n",
    "    print(x+n)\n",
    "    \n",
    "\n",
    "    "
   ]
  },
  {
   "cell_type": "code",
   "execution_count": 55,
   "id": "6eed6bd6",
   "metadata": {},
   "outputs": [
    {
     "name": "stdout",
     "output_type": "stream",
     "text": [
      "number1: 5\n",
      "number2: 10\n",
      "True\n"
     ]
    }
   ],
   "source": [
    "#12) Write a python program that accepts two inputs num1 and\n",
    "#num2 print True if one of them is 10 or if their sum is 10\n",
    "#otherwise print False.\n",
    "x=int(input(\"number1: \"))\n",
    "y=int(input(\"number2: \"))\n",
    "c=x+y\n",
    "if x==10 or y==10 or c==10:\n",
    "    print(\"True\")\n",
    "else:\n",
    "    print(\"False\")\n",
    "\n"
   ]
  },
  {
   "cell_type": "code",
   "execution_count": 54,
   "id": "84cc976b",
   "metadata": {},
   "outputs": [
    {
     "name": "stdout",
     "output_type": "stream",
     "text": [
      "number1: 5\n",
      "number2: 10\n",
      "number3: 60\n",
      "False\n"
     ]
    }
   ],
   "source": [
    "#13) Write a python program that accepts three inputs x, y and\n",
    "#z print True if x*y>z otherwise False.\n",
    "x=int(input(\"number1: \"))\n",
    "y=int(input(\"number2: \"))\n",
    "c=int(input(\"number3: \"))\n",
    "\n",
    "if x*y>c:\n",
    "    print(\"True\")\n",
    "else:\n",
    "    print(\"False\")"
   ]
  },
  {
   "cell_type": "code",
   "execution_count": 65,
   "id": "825d9655",
   "metadata": {},
   "outputs": [
    {
     "name": "stdout",
     "output_type": "stream",
     "text": [
      "shiva:father\n",
      "letha:mother\n",
      "tarun:brother\n"
     ]
    }
   ],
   "source": [
    "#18) Manoj Kumar has family and friends. Help him remind\n",
    "#them who is who. Given a string with a name, return the\n",
    "#relation of that person to Manoj Kumar.\n",
    "#Person Relation\n",
    "#Shiva father\n",
    "#Letha mother\n",
    "#Tarun brother.\n",
    "def relation(shiva,letha,tarun):\n",
    "    print(\"shiva:{}\".format (shiva))\n",
    "    print(\"letha:{}\".format(letha))\n",
    "    print(\"tarun:{}\".format(tarun))\n",
    "relation(shiva=\"father\",letha=\"mother\",tarun=\"brother\")"
   ]
  },
  {
   "cell_type": "code",
   "execution_count": null,
   "id": "9314b7f3",
   "metadata": {},
   "outputs": [],
   "source": []
  },
  {
   "cell_type": "code",
   "execution_count": 3,
   "id": "452588d4",
   "metadata": {},
   "outputs": [
    {
     "name": "stdout",
     "output_type": "stream",
     "text": [
      " monkeys\n",
      "it is plural\n"
     ]
    }
   ],
   "source": [
    "#16) Write a python program that takes in a word and\n",
    "#determines whether or not it is plural. A plural word is one\n",
    "#that ends in \"s\".\n",
    "x=input(\" \")\n",
    "if x.endswith(\"s\"):\n",
    "    print(\"it is plural\")\n",
    "else:\n",
    "    print(\"it is not plural\")\n",
    "    "
   ]
  },
  {
   "cell_type": "code",
   "execution_count": 19,
   "id": "bdd1d48c",
   "metadata": {},
   "outputs": [
    {
     "name": "stdout",
     "output_type": "stream",
     "text": [
      "age: 40\n",
      "enter true or false: true\n",
      "not serving\n"
     ]
    }
   ],
   "source": [
    "#17) A bartender is writing a simple program to determine\n",
    "#whether he should serve drinks to someone. He only serves\n",
    "#drinks to people 18 and older and when he's not on break\n",
    "#(True means break and False means not a break time). Given\n",
    "#the person's age, and whether break time is in session, create\n",
    "#a python program which prints whether he should serve\n",
    "#drinks or not.\n",
    "x=int(input(\"age: \"))\n",
    "y=input(\"enter true or false: \")\n",
    "if x>=18 and y=='false':\n",
    "    print(\"serves\")\n",
    "elif x>=18 and y=='true':\n",
    "    print(\"not serving\")\n",
    "elif x<=18:\n",
    "    print(\"not serving\")"
   ]
  },
  {
   "cell_type": "code",
   "execution_count": 3,
   "id": "114d9a64",
   "metadata": {},
   "outputs": [
    {
     "name": "stdout",
     "output_type": "stream",
     "text": [
      " maggie\n",
      "aiemgg\n"
     ]
    }
   ],
   "source": [
    "#19) Write a python program that takes a string, breaks it up\n",
    "#and returns it with vowels first, consonants second. For any\n",
    "#character that's not a vowel (like special characters or\n",
    "#spaces), treat them like consonants.\n",
    "x=input(\" \")\n",
    "m=\"\"\n",
    "n=\"\"\n",
    "for alpha in x:\n",
    "    if alpha in [\"a\",\"e\",\"i\",\"o\",\"u\"]:\n",
    "        m+=alpha\n",
    "    else:\n",
    "        n+=alpha\n",
    "print(m+n)\n",
    "        \n",
    "\n"
   ]
  },
  {
   "cell_type": "code",
   "execution_count": null,
   "id": "319866cc",
   "metadata": {},
   "outputs": [],
   "source": []
  },
  {
   "cell_type": "code",
   "execution_count": 11,
   "id": "3a360b4f",
   "metadata": {},
   "outputs": [
    {
     "name": "stdout",
     "output_type": "stream",
     "text": [
      " maggie \n",
      " vinay\n",
      "false\n"
     ]
    }
   ],
   "source": [
    "#14) Write a python program that accepts two strings inputs\n",
    "#return True depending on whether the total number of\n",
    "#characters in the first string is equal to the total number of\n",
    "#characters in the second string.\n",
    "x=input(\" \")\n",
    "y=input(\" \")\n",
    "if len(x)==len(y):\n",
    "    print(\"True\")\n",
    "else:\n",
    "    print(\"false\")"
   ]
  },
  {
   "cell_type": "code",
   "execution_count": 4,
   "id": "858b3d69",
   "metadata": {},
   "outputs": [
    {
     "name": "stdout",
     "output_type": "stream",
     "text": [
      " abcadeah\n",
      "abc@de@h\n"
     ]
    }
   ],
   "source": [
    "#10) Write a Python program to get a string from a given\n",
    "#string where all occurrences of its first char have been\n",
    "#changed to '@', except the first char itself.\n",
    "x=input(\" \")\n",
    "y=x[0]\n",
    "z=x[1:].replace(\"a\",\"@\")\n",
    "print(y+z)"
   ]
  },
  {
   "cell_type": "code",
   "execution_count": 6,
   "id": "11d785b7",
   "metadata": {},
   "outputs": [
    {
     "name": "stdout",
     "output_type": "stream",
     "text": [
      "num1: 6\n",
      "choose any one +,-,*,/+\n",
      "num2: 5\n",
      "6+5=11\n"
     ]
    }
   ],
   "source": [
    "#20) Create a dynamic calculator which asks for numbers and\n",
    "#operator and return the answers.\n",
    "num1=int(input(\"num1: \"))\n",
    "opera=input(\"choose any one +,-,*,/\")\n",
    "num2=int(input(\"num2: \"))\n",
    "if opera==\"+\":\n",
    "    print(\"{}+{}={}\".format(num1,num2,num1+num2))\n",
    "elif opera==\"-\":\n",
    "    print(\"{}-{}={}\".format(num1,num2,num1-num2))\n",
    "elif opera==\"*\":\n",
    "    print(\"{}*{}={}\".format(num1,num2,num1*num2))\n",
    "elif opera==\"/\":\n",
    "    print(\"{}/{}={}\".format(num1,num2,num1/num2))"
   ]
  },
  {
   "cell_type": "code",
   "execution_count": null,
   "id": "0ba424fa",
   "metadata": {},
   "outputs": [],
   "source": []
  }
 ],
 "metadata": {
  "kernelspec": {
   "display_name": "Python 3 (ipykernel)",
   "language": "python",
   "name": "python3"
  },
  "language_info": {
   "codemirror_mode": {
    "name": "ipython",
    "version": 3
   },
   "file_extension": ".py",
   "mimetype": "text/x-python",
   "name": "python",
   "nbconvert_exporter": "python",
   "pygments_lexer": "ipython3",
   "version": "3.9.13"
  }
 },
 "nbformat": 4,
 "nbformat_minor": 5
}
